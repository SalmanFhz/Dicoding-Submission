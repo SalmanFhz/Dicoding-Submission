{
 "cells": [
  {
   "cell_type": "code",
   "execution_count": 1,
   "metadata": {},
   "outputs": [],
   "source": [
    "import pandas as pd\n",
    "import matplotlib.pyplot as plt\n",
    "import seaborn as sns\n",
    "import streamlit as st\n",
    "from babel.numbers import format_currency"
   ]
  },
  {
   "cell_type": "code",
   "execution_count": 2,
   "metadata": {},
   "outputs": [],
   "source": [
    "sns.set(style='dark')"
   ]
  },
  {
   "cell_type": "code",
   "execution_count": 19,
   "metadata": {},
   "outputs": [],
   "source": [
    "df = pd.read_csv(\"D:/Dataanalyst/python/baru/latihan/all_data.csv\")"
   ]
  },
  {
   "cell_type": "code",
   "execution_count": 20,
   "metadata": {},
   "outputs": [],
   "source": [
    "def create_daily_orders_df(df):\n",
    "    daily_orders_df = df.resample(rule='D', on='order_date').agg({\n",
    "        \"order_id\": \"nunique\",\n",
    "        \"total_price\": \"sum\"\n",
    "    })\n",
    "    daily_orders_df = daily_orders_df.reset_index()\n",
    "    daily_orders_df.rename(columns={\n",
    "        \"order_id\": \"order_count\",\n",
    "        \"total_price\": \"revenue\"\n",
    "    }, inplace=True)\n",
    "    \n",
    "    return daily_orders_df"
   ]
  },
  {
   "cell_type": "code",
   "execution_count": 21,
   "metadata": {},
   "outputs": [],
   "source": [
    "def create_sum_order_items_df(df):\n",
    "    sum_order_items_df = df.groupby(\"product_name\").quantity_x.sum().sort_values(ascending=False).reset_index()\n",
    "    return sum_order_items_df"
   ]
  },
  {
   "cell_type": "code",
   "execution_count": 22,
   "metadata": {},
   "outputs": [],
   "source": [
    "def create_bygender_df(df):\n",
    "    bygender_df = df.groupby(by=\"gender\").customer_id.nunique().reset_index()\n",
    "    bygender_df.rename(columns={\n",
    "        \"customer_id\": \"customer_count\"\n",
    "    }, inplace=True)\n",
    "    \n",
    "    return bygender_df"
   ]
  },
  {
   "cell_type": "code",
   "execution_count": 23,
   "metadata": {},
   "outputs": [],
   "source": [
    "def create_byage_df(df):\n",
    "    byage_df = df.groupby(by=\"age_group\").customer_id.nunique().reset_index()\n",
    "    byage_df.rename(columns={\n",
    "        \"customer_id\": \"customer_count\"\n",
    "    }, inplace=True)\n",
    "    byage_df['age_group'] = pd.Categorical(byage_df['age_group'], [\"Youth\", \"Adults\", \"Seniors\"])\n",
    "    \n",
    "    return byage_df"
   ]
  },
  {
   "cell_type": "code",
   "execution_count": 25,
   "metadata": {},
   "outputs": [],
   "source": [
    "def create_bystate_df(df):\n",
    "    bystate_df = df.groupby(by=\"state\").customer_id.nunique().reset_index()\n",
    "    bystate_df.rename(columns={\n",
    "        \"customer_id\": \"customer_count\"\n",
    "    }, inplace=True)\n",
    "    \n",
    "    return bystate_df"
   ]
  },
  {
   "cell_type": "code",
   "execution_count": 26,
   "metadata": {},
   "outputs": [],
   "source": [
    "def create_rfm_df(df):\n",
    "    rfm_df = df.groupby(by=\"customer_id\", as_index=False).agg({\n",
    "        \"order_date\": \"max\", #mengambil tanggal order terakhir\n",
    "        \"order_id\": \"nunique\",\n",
    "        \"total_price\": \"sum\"\n",
    "    })\n",
    "    rfm_df.columns = [\"customer_id\", \"max_order_timestamp\", \"frequency\", \"monetary\"]\n",
    "    \n",
    "    rfm_df[\"max_order_timestamp\"] = rfm_df[\"max_order_timestamp\"].dt.date\n",
    "    recent_date = df[\"order_date\"].dt.date.max()\n",
    "    rfm_df[\"recency\"] = rfm_df[\"max_order_timestamp\"].apply(lambda x: (recent_date - x).days)\n",
    "    rfm_df.drop(\"max_order_timestamp\", axis=1, inplace=True)\n",
    "    \n",
    "    return rfm_df"
   ]
  },
  {
   "cell_type": "code",
   "execution_count": 27,
   "metadata": {},
   "outputs": [
    {
     "name": "stdout",
     "output_type": "stream",
     "text": [
      "      sales_id  order_id  product_id  price_per_unit  quantity_x  total_price  \\\n",
      "0            0         1         218             106           2          212   \n",
      "1            1         1         481             118           1          118   \n",
      "2            2         1           2              96           3          288   \n",
      "3            3         1        1002             106           2          212   \n",
      "4            4         1         691             113           3          339   \n",
      "...        ...       ...         ...             ...         ...          ...   \n",
      "4995      4995       998         321             109           2          218   \n",
      "4996      4996       998         251              95           3          285   \n",
      "4997      4997       999         872             113           1          113   \n",
      "4998      4998       999         998             106           2          212   \n",
      "4999      4999       999        1105             115           1          115   \n",
      "\n",
      "     product_type     product_name size  colour  ...  customer_name  \\\n",
      "0           Shirt         Chambray    L  orange  ...       fulan 64   \n",
      "1          Jacket           Puffer    S  indigo  ...       fulan 64   \n",
      "2           Shirt     Oxford Cloth    M     red  ...       fulan 64   \n",
      "3        Trousers             Wool    M    blue  ...       fulan 64   \n",
      "4          Jacket            Parka    S  indigo  ...       fulan 64   \n",
      "...           ...              ...  ...     ...  ...            ...   \n",
      "4995        Shirt  Mandarin Collar    S  orange  ...      fulan 407   \n",
      "4996        Shirt             Polo    S  orange  ...      fulan 407   \n",
      "4997     Trousers           Chinos    M  violet  ...      fulan 428   \n",
      "4998     Trousers             Wool    L   green  ...      fulan 428   \n",
      "4999     Trousers          Cropped   XS    blue  ...      fulan 428   \n",
      "\n",
      "                 gender age               home_address  zip_code  \\\n",
      "0     Prefer not to say  75  4927 Alice MeadowApt. 960      7787   \n",
      "1     Prefer not to say  75  4927 Alice MeadowApt. 960      7787   \n",
      "2     Prefer not to say  75  4927 Alice MeadowApt. 960      7787   \n",
      "3     Prefer not to say  75  4927 Alice MeadowApt. 960      7787   \n",
      "4     Prefer not to say  75  4927 Alice MeadowApt. 960      7787   \n",
      "...                 ...  ..                        ...       ...   \n",
      "4995               Male  41  5233 Lara AvenueSuite 291      8697   \n",
      "4996               Male  41  5233 Lara AvenueSuite 291      8697   \n",
      "4997  Prefer not to say  66  80 Hermiston WaySuite 403      1112   \n",
      "4998  Prefer not to say  66  80 Hermiston WaySuite 403      1112   \n",
      "4999  Prefer not to say  66  80 Hermiston WaySuite 403      1112   \n",
      "\n",
      "                city                         state    country  status  \\\n",
      "0     Sanfordborough               South Australia  Australia  Active   \n",
      "1     Sanfordborough               South Australia  Australia  Active   \n",
      "2     Sanfordborough               South Australia  Australia  Active   \n",
      "3     Sanfordborough               South Australia  Australia  Active   \n",
      "4     Sanfordborough               South Australia  Australia  Active   \n",
      "...              ...                           ...        ...     ...   \n",
      "4995   Hartmannshire                    Queensland  Australia  Active   \n",
      "4996   Hartmannshire                    Queensland  Australia  Active   \n",
      "4997  North Liamfort  Australian Capital Territory  Australia  Active   \n",
      "4998  North Liamfort  Australian Capital Territory  Australia  Active   \n",
      "4999  North Liamfort  Australian Capital Territory  Australia  Active   \n",
      "\n",
      "     age_group  \n",
      "0      Seniors  \n",
      "1      Seniors  \n",
      "2      Seniors  \n",
      "3      Seniors  \n",
      "4      Seniors  \n",
      "...        ...  \n",
      "4995    Adults  \n",
      "4996    Adults  \n",
      "4997   Seniors  \n",
      "4998   Seniors  \n",
      "4999   Seniors  \n",
      "\n",
      "[5000 rows x 28 columns]\n"
     ]
    }
   ],
   "source": [
    "print(df)"
   ]
  },
  {
   "cell_type": "code",
   "execution_count": 36,
   "metadata": {},
   "outputs": [],
   "source": [
    "df = df.dropna()"
   ]
  },
  {
   "cell_type": "code",
   "execution_count": null,
   "metadata": {},
   "outputs": [],
   "source": [
    "# numerik jadi 0\n",
    "numeric_cols = df.select_dtypes(include=['float64', 'int64']).columns\n",
    "df[numeric_cols] = df[numeric_cols].fillna(0)"
   ]
  },
  {
   "cell_type": "code",
   "execution_count": null,
   "metadata": {},
   "outputs": [],
   "source": [
    "# kategorik jadi unknown\n",
    "categorical_cols = df.select_dtypes(include=['object']).columns\n",
    "df[categorical_cols] = df[categorical_cols].fillna('Unknown')"
   ]
  },
  {
   "cell_type": "code",
   "execution_count": 39,
   "metadata": {},
   "outputs": [
    {
     "name": "stdout",
     "output_type": "stream",
     "text": [
      "   sales_id  order_id  product_id  price_per_unit  quantity_x  total_price  \\\n",
      "0         0         1         218             106           2          212   \n",
      "1         1         1         481             118           1          118   \n",
      "2         2         1           2              96           3          288   \n",
      "3         3         1        1002             106           2          212   \n",
      "4         4         1         691             113           3          339   \n",
      "\n",
      "  product_type  product_name size  colour  ...  customer_name  \\\n",
      "0        Shirt      Chambray    L  orange  ...       fulan 64   \n",
      "1       Jacket        Puffer    S  indigo  ...       fulan 64   \n",
      "2        Shirt  Oxford Cloth    M     red  ...       fulan 64   \n",
      "3     Trousers          Wool    M    blue  ...       fulan 64   \n",
      "4       Jacket         Parka    S  indigo  ...       fulan 64   \n",
      "\n",
      "              gender age               home_address  zip_code            city  \\\n",
      "0  Prefer not to say  75  4927 Alice MeadowApt. 960      7787  Sanfordborough   \n",
      "1  Prefer not to say  75  4927 Alice MeadowApt. 960      7787  Sanfordborough   \n",
      "2  Prefer not to say  75  4927 Alice MeadowApt. 960      7787  Sanfordborough   \n",
      "3  Prefer not to say  75  4927 Alice MeadowApt. 960      7787  Sanfordborough   \n",
      "4  Prefer not to say  75  4927 Alice MeadowApt. 960      7787  Sanfordborough   \n",
      "\n",
      "             state    country  status age_group  \n",
      "0  South Australia  Australia  Active   Seniors  \n",
      "1  South Australia  Australia  Active   Seniors  \n",
      "2  South Australia  Australia  Active   Seniors  \n",
      "3  South Australia  Australia  Active   Seniors  \n",
      "4  South Australia  Australia  Active   Seniors  \n",
      "\n",
      "[5 rows x 28 columns]\n"
     ]
    }
   ],
   "source": [
    "# Display the cleaned data\n",
    "print(df.head())"
   ]
  },
  {
   "cell_type": "code",
   "execution_count": 40,
   "metadata": {},
   "outputs": [
    {
     "name": "stdout",
     "output_type": "stream",
     "text": [
      "      sales_id  order_id  product_id  price_per_unit  quantity_x  total_price  \\\n",
      "0            0         1         218             106           2          212   \n",
      "1            1         1         481             118           1          118   \n",
      "2            2         1           2              96           3          288   \n",
      "3            3         1        1002             106           2          212   \n",
      "4            4         1         691             113           3          339   \n",
      "...        ...       ...         ...             ...         ...          ...   \n",
      "4995      4995       998         321             109           2          218   \n",
      "4996      4996       998         251              95           3          285   \n",
      "4997      4997       999         872             113           1          113   \n",
      "4998      4998       999         998             106           2          212   \n",
      "4999      4999       999        1105             115           1          115   \n",
      "\n",
      "     product_type     product_name size  colour  ...  customer_name  \\\n",
      "0           Shirt         Chambray    L  orange  ...       fulan 64   \n",
      "1          Jacket           Puffer    S  indigo  ...       fulan 64   \n",
      "2           Shirt     Oxford Cloth    M     red  ...       fulan 64   \n",
      "3        Trousers             Wool    M    blue  ...       fulan 64   \n",
      "4          Jacket            Parka    S  indigo  ...       fulan 64   \n",
      "...           ...              ...  ...     ...  ...            ...   \n",
      "4995        Shirt  Mandarin Collar    S  orange  ...      fulan 407   \n",
      "4996        Shirt             Polo    S  orange  ...      fulan 407   \n",
      "4997     Trousers           Chinos    M  violet  ...      fulan 428   \n",
      "4998     Trousers             Wool    L   green  ...      fulan 428   \n",
      "4999     Trousers          Cropped   XS    blue  ...      fulan 428   \n",
      "\n",
      "                 gender age               home_address  zip_code  \\\n",
      "0     Prefer not to say  75  4927 Alice MeadowApt. 960      7787   \n",
      "1     Prefer not to say  75  4927 Alice MeadowApt. 960      7787   \n",
      "2     Prefer not to say  75  4927 Alice MeadowApt. 960      7787   \n",
      "3     Prefer not to say  75  4927 Alice MeadowApt. 960      7787   \n",
      "4     Prefer not to say  75  4927 Alice MeadowApt. 960      7787   \n",
      "...                 ...  ..                        ...       ...   \n",
      "4995               Male  41  5233 Lara AvenueSuite 291      8697   \n",
      "4996               Male  41  5233 Lara AvenueSuite 291      8697   \n",
      "4997  Prefer not to say  66  80 Hermiston WaySuite 403      1112   \n",
      "4998  Prefer not to say  66  80 Hermiston WaySuite 403      1112   \n",
      "4999  Prefer not to say  66  80 Hermiston WaySuite 403      1112   \n",
      "\n",
      "                city                         state    country  status  \\\n",
      "0     Sanfordborough               South Australia  Australia  Active   \n",
      "1     Sanfordborough               South Australia  Australia  Active   \n",
      "2     Sanfordborough               South Australia  Australia  Active   \n",
      "3     Sanfordborough               South Australia  Australia  Active   \n",
      "4     Sanfordborough               South Australia  Australia  Active   \n",
      "...              ...                           ...        ...     ...   \n",
      "4995   Hartmannshire                    Queensland  Australia  Active   \n",
      "4996   Hartmannshire                    Queensland  Australia  Active   \n",
      "4997  North Liamfort  Australian Capital Territory  Australia  Active   \n",
      "4998  North Liamfort  Australian Capital Territory  Australia  Active   \n",
      "4999  North Liamfort  Australian Capital Territory  Australia  Active   \n",
      "\n",
      "     age_group  \n",
      "0      Seniors  \n",
      "1      Seniors  \n",
      "2      Seniors  \n",
      "3      Seniors  \n",
      "4      Seniors  \n",
      "...        ...  \n",
      "4995    Adults  \n",
      "4996    Adults  \n",
      "4997   Seniors  \n",
      "4998   Seniors  \n",
      "4999   Seniors  \n",
      "\n",
      "[5000 rows x 28 columns]\n"
     ]
    }
   ],
   "source": [
    "print(df)"
   ]
  },
  {
   "cell_type": "code",
   "execution_count": 41,
   "metadata": {},
   "outputs": [],
   "source": [
    "# Save the cleaned DataFrame to the specified path\n",
    "df.to_csv(r'D:\\Dataanalyst\\python\\baru\\latihan\\project\\clean_data.csv', index=False)\n"
   ]
  }
 ],
 "metadata": {
  "kernelspec": {
   "display_name": "Python 3",
   "language": "python",
   "name": "python3"
  },
  "language_info": {
   "codemirror_mode": {
    "name": "ipython",
    "version": 3
   },
   "file_extension": ".py",
   "mimetype": "text/x-python",
   "name": "python",
   "nbconvert_exporter": "python",
   "pygments_lexer": "ipython3",
   "version": "3.8.5"
  }
 },
 "nbformat": 4,
 "nbformat_minor": 2
}
